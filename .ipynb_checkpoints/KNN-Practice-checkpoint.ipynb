{
 "cells": [
  {
   "cell_type": "markdown",
   "id": "a3d09940-dcbf-4162-80fe-5f1816fd317d",
   "metadata": {},
   "source": [
    "# K-Nearest Neighbors KNN"
   ]
  },
  {
   "cell_type": "markdown",
   "id": "f498a9a8-610a-4bfc-aa44-a04bd41d4b38",
   "metadata": {},
   "source": [
    "## Finalidade do notebook ##\n",
    "\n",
    "Escrever testes e possíveis anotações importantes sobre o uso de KNN com scikit-learn e pandas."
   ]
  },
  {
   "cell_type": "code",
   "execution_count": 14,
   "id": "a77f99e3-bbcc-4d1e-b2dd-15e8fa3f36a6",
   "metadata": {},
   "outputs": [
    {
     "data": {
      "text/html": [
       "<div>\n",
       "<style scoped>\n",
       "    .dataframe tbody tr th:only-of-type {\n",
       "        vertical-align: middle;\n",
       "    }\n",
       "\n",
       "    .dataframe tbody tr th {\n",
       "        vertical-align: top;\n",
       "    }\n",
       "\n",
       "    .dataframe thead th {\n",
       "        text-align: right;\n",
       "    }\n",
       "</style>\n",
       "<table border=\"1\" class=\"dataframe\">\n",
       "  <thead>\n",
       "    <tr style=\"text-align: right;\">\n",
       "      <th></th>\n",
       "      <th>user_id</th>\n",
       "      <th>movie_id</th>\n",
       "      <th>stars</th>\n",
       "    </tr>\n",
       "  </thead>\n",
       "  <tbody>\n",
       "    <tr>\n",
       "      <th>0</th>\n",
       "      <td>0</td>\n",
       "      <td>50</td>\n",
       "      <td>5</td>\n",
       "    </tr>\n",
       "    <tr>\n",
       "      <th>1</th>\n",
       "      <td>0</td>\n",
       "      <td>172</td>\n",
       "      <td>5</td>\n",
       "    </tr>\n",
       "    <tr>\n",
       "      <th>2</th>\n",
       "      <td>0</td>\n",
       "      <td>133</td>\n",
       "      <td>1</td>\n",
       "    </tr>\n",
       "    <tr>\n",
       "      <th>3</th>\n",
       "      <td>196</td>\n",
       "      <td>242</td>\n",
       "      <td>3</td>\n",
       "    </tr>\n",
       "    <tr>\n",
       "      <th>4</th>\n",
       "      <td>186</td>\n",
       "      <td>302</td>\n",
       "      <td>3</td>\n",
       "    </tr>\n",
       "  </tbody>\n",
       "</table>\n",
       "</div>"
      ],
      "text/plain": [
       "   user_id  movie_id  stars\n",
       "0        0        50      5\n",
       "1        0       172      5\n",
       "2        0       133      1\n",
       "3      196       242      3\n",
       "4      186       302      3"
      ]
     },
     "execution_count": 14,
     "metadata": {},
     "output_type": "execute_result"
    }
   ],
   "source": [
    "# Definindo e limpando dataset\n",
    "import pandas as pd\n",
    "import numpy as np\n",
    "\n",
    "cols = ['user_id', 'movie_id', 'stars']\n",
    "df = pd.read_csv(\"./Dataset-Curso/u.data\", sep='\\t', names=cols, usecols=range(3))\n",
    "\n",
    "df.head()"
   ]
  },
  {
   "cell_type": "markdown",
   "id": "46afcd99-5555-4e2c-9c6b-8c99890f2582",
   "metadata": {},
   "source": [
    "Fazendo uma análise rápida do dataset é possível perceber que as notas vão de 0 a 5, deixando uma margem baixa para cálculos muito distantes."
   ]
  },
  {
   "cell_type": "code",
   "execution_count": 15,
   "id": "50813278-3f4d-47a3-bffd-d519f1b3378c",
   "metadata": {},
   "outputs": [
    {
     "name": "stderr",
     "output_type": "stream",
     "text": [
      "/tmp/ipykernel_13859/4252825799.py:1: FutureWarning: The provided callable <function mean at 0x78b751b8b060> is currently using SeriesGroupBy.mean. In a future version of pandas, the provided callable will be used directly. To keep current behavior pass the string \"mean\" instead.\n",
      "  notas = df.groupby('movie_id').agg({'stars': [np.size, np.mean]})\n"
     ]
    },
    {
     "data": {
      "text/html": [
       "<div>\n",
       "<style scoped>\n",
       "    .dataframe tbody tr th:only-of-type {\n",
       "        vertical-align: middle;\n",
       "    }\n",
       "\n",
       "    .dataframe tbody tr th {\n",
       "        vertical-align: top;\n",
       "    }\n",
       "\n",
       "    .dataframe thead tr th {\n",
       "        text-align: left;\n",
       "    }\n",
       "\n",
       "    .dataframe thead tr:last-of-type th {\n",
       "        text-align: right;\n",
       "    }\n",
       "</style>\n",
       "<table border=\"1\" class=\"dataframe\">\n",
       "  <thead>\n",
       "    <tr>\n",
       "      <th></th>\n",
       "      <th colspan=\"2\" halign=\"left\">stars</th>\n",
       "    </tr>\n",
       "    <tr>\n",
       "      <th></th>\n",
       "      <th>size</th>\n",
       "      <th>mean</th>\n",
       "    </tr>\n",
       "    <tr>\n",
       "      <th>movie_id</th>\n",
       "      <th></th>\n",
       "      <th></th>\n",
       "    </tr>\n",
       "  </thead>\n",
       "  <tbody>\n",
       "    <tr>\n",
       "      <th>1</th>\n",
       "      <td>452</td>\n",
       "      <td>3.878319</td>\n",
       "    </tr>\n",
       "    <tr>\n",
       "      <th>2</th>\n",
       "      <td>131</td>\n",
       "      <td>3.206107</td>\n",
       "    </tr>\n",
       "    <tr>\n",
       "      <th>3</th>\n",
       "      <td>90</td>\n",
       "      <td>3.033333</td>\n",
       "    </tr>\n",
       "    <tr>\n",
       "      <th>4</th>\n",
       "      <td>209</td>\n",
       "      <td>3.550239</td>\n",
       "    </tr>\n",
       "    <tr>\n",
       "      <th>5</th>\n",
       "      <td>86</td>\n",
       "      <td>3.302326</td>\n",
       "    </tr>\n",
       "  </tbody>\n",
       "</table>\n",
       "</div>"
      ],
      "text/plain": [
       "         stars          \n",
       "          size      mean\n",
       "movie_id                \n",
       "1          452  3.878319\n",
       "2          131  3.206107\n",
       "3           90  3.033333\n",
       "4          209  3.550239\n",
       "5           86  3.302326"
      ]
     },
     "execution_count": 15,
     "metadata": {},
     "output_type": "execute_result"
    }
   ],
   "source": [
    "notas = df.groupby('movie_id').agg({'stars': [np.size, np.mean]})\n",
    "notas.head()"
   ]
  },
  {
   "cell_type": "code",
   "execution_count": 17,
   "id": "419dfbd3-f514-493e-b3e1-21f994e3d7a3",
   "metadata": {},
   "outputs": [
    {
     "data": {
      "text/html": [
       "<div>\n",
       "<style scoped>\n",
       "    .dataframe tbody tr th:only-of-type {\n",
       "        vertical-align: middle;\n",
       "    }\n",
       "\n",
       "    .dataframe tbody tr th {\n",
       "        vertical-align: top;\n",
       "    }\n",
       "\n",
       "    .dataframe thead th {\n",
       "        text-align: right;\n",
       "    }\n",
       "</style>\n",
       "<table border=\"1\" class=\"dataframe\">\n",
       "  <thead>\n",
       "    <tr style=\"text-align: right;\">\n",
       "      <th></th>\n",
       "      <th>size</th>\n",
       "    </tr>\n",
       "    <tr>\n",
       "      <th>movie_id</th>\n",
       "      <th></th>\n",
       "    </tr>\n",
       "  </thead>\n",
       "  <tbody>\n",
       "    <tr>\n",
       "      <th>1</th>\n",
       "      <td>0.773585</td>\n",
       "    </tr>\n",
       "    <tr>\n",
       "      <th>2</th>\n",
       "      <td>0.222985</td>\n",
       "    </tr>\n",
       "    <tr>\n",
       "      <th>3</th>\n",
       "      <td>0.152659</td>\n",
       "    </tr>\n",
       "    <tr>\n",
       "      <th>4</th>\n",
       "      <td>0.356775</td>\n",
       "    </tr>\n",
       "    <tr>\n",
       "      <th>5</th>\n",
       "      <td>0.145798</td>\n",
       "    </tr>\n",
       "  </tbody>\n",
       "</table>\n",
       "</div>"
      ],
      "text/plain": [
       "              size\n",
       "movie_id          \n",
       "1         0.773585\n",
       "2         0.222985\n",
       "3         0.152659\n",
       "4         0.356775\n",
       "5         0.145798"
      ]
     },
     "execution_count": 17,
     "metadata": {},
     "output_type": "execute_result"
    }
   ],
   "source": [
    "movie_ratings = pd.DataFrame(notas['stars']['size'])\n",
    "movie_ratings_normalized = movie_ratings.apply(lambda x: (x - np.min(x)) / (np.max(x) - np.min(x)))\n",
    "movie_ratings_normalized.head()"
   ]
  },
  {
   "cell_type": "code",
   "execution_count": 28,
   "id": "73d1646f-146a-4249-9869-3e2720c7dd11",
   "metadata": {},
   "outputs": [],
   "source": [
    "movie_dict = {}\n",
    "\n",
    "with open (r'./Dataset-Curso/u.item', encoding='ISO-8859-1') as f:\n",
    "    temp = ''\n",
    "    for line in f:\n",
    "        fields = line.rstrip('\\n').split('|')\n",
    "        movieId = int(fields[0])\n",
    "        name = fields[1]\n",
    "        genre = fields[5:25]\n",
    "        genre = map(int, genre)\n",
    "        movie_dict[movieId] = (name, genre, movie_ratings_normalized.loc[movieId].get('size'), notas.loc[movieId].stars.get('size'))"
   ]
  },
  {
   "cell_type": "code",
   "execution_count": 29,
   "id": "33ddb437-c7e4-4f65-81a7-3dd8e66d3439",
   "metadata": {},
   "outputs": [
    {
     "data": {
      "text/plain": [
       "('Toy Story (1995)',\n",
       " <map at 0x78b7249372b0>,\n",
       " np.float64(0.7735849056603774),\n",
       " np.float64(452.0))"
      ]
     },
     "execution_count": 29,
     "metadata": {},
     "output_type": "execute_result"
    }
   ],
   "source": [
    "movie_dict[1]"
   ]
  },
  {
   "cell_type": "code",
   "execution_count": null,
   "id": "cc30c137-2381-4a95-9034-bb7b366b92fb",
   "metadata": {},
   "outputs": [],
   "source": []
  }
 ],
 "metadata": {
  "kernelspec": {
   "display_name": "Python 3 (ipykernel)",
   "language": "python",
   "name": "python3"
  },
  "language_info": {
   "codemirror_mode": {
    "name": "ipython",
    "version": 3
   },
   "file_extension": ".py",
   "mimetype": "text/x-python",
   "name": "python",
   "nbconvert_exporter": "python",
   "pygments_lexer": "ipython3",
   "version": "3.12.3"
  }
 },
 "nbformat": 4,
 "nbformat_minor": 5
}
